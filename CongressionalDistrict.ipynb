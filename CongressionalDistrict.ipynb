{
 "cells": [
  {
   "cell_type": "code",
   "execution_count": 1,
   "metadata": {
    "scrolled": true
   },
   "outputs": [
    {
     "name": "stderr",
     "output_type": "stream",
     "text": [
      "/Users/manavdutta1/anaconda/lib/python3.6/site-packages/statsmodels/compat/pandas.py:56: FutureWarning: The pandas.core.datetools module is deprecated and will be removed in a future version. Please use the pandas.tseries module instead.\n",
      "  from pandas.core import datetools\n"
     ]
    }
   ],
   "source": [
    "import scipy.stats\n",
    "import matplotlib.pyplot as plt\n",
    "import copy\n",
    "from sklearn import linear_model\n",
    "\n",
    "import matplotlib\n",
    "import matplotlib.patches as mpatches\n",
    "from scipy import stats\n",
    "from scipy.optimize import curve_fit\n",
    "from ipywidgets import interact, interactive, fixed\n",
    "import ipywidgets as widgets\n",
    "import seaborn as sns\n",
    "import json\n",
    "import statsmodels.api as sm\n",
    "\n",
    "import pandas as pd\n",
    "import numpy as np\n",
    "import folium\n",
    "from folium.features import DivIcon\n",
    "import requests\n",
    "from bs4 import BeautifulSoup\n",
    "import re\n",
    "import squarify\n",
    "import os"
   ]
  },
  {
   "cell_type": "code",
   "execution_count": 2,
   "metadata": {},
   "outputs": [
    {
     "ename": "FileNotFoundError",
     "evalue": "[Errno 2] No such file or directory: 'congressional-districts2018'",
     "output_type": "error",
     "traceback": [
      "\u001b[0;31m---------------------------------------------------------------------------\u001b[0m",
      "\u001b[0;31mFileNotFoundError\u001b[0m                         Traceback (most recent call last)",
      "\u001b[0;32m<ipython-input-2-742e76f3c24c>\u001b[0m in \u001b[0;36m<module>\u001b[0;34m()\u001b[0m\n\u001b[0;32m----> 1\u001b[0;31m \u001b[0mos\u001b[0m\u001b[0;34m.\u001b[0m\u001b[0mchdir\u001b[0m\u001b[0;34m(\u001b[0m\u001b[0;34m\"congressional-districts2018\"\u001b[0m\u001b[0;34m)\u001b[0m\u001b[0;34m\u001b[0m\u001b[0m\n\u001b[0m",
      "\u001b[0;31mFileNotFoundError\u001b[0m: [Errno 2] No such file or directory: 'congressional-districts2018'"
     ]
    }
   ],
   "source": [
    "os.chdir(\"congressional-districts2018\")"
   ]
  },
  {
   "cell_type": "code",
   "execution_count": null,
   "metadata": {},
   "outputs": [],
   "source": [
    "#throws exception\n",
    "congressionalList = []\n",
    "for dirname, dirnames, filenames in os.walk('.'):\n",
    "      for subdirname in dirnames:\n",
    "        if (subdirname != \".git\" and subdirname != \".ipynb_checkpoints\"):\n",
    "           with open(os.getcwd() + \"/\" + subdirname + \"/\" + \"shape.geojson\", \"r\") as f:\n",
    "                jsonFile = json.load(f)\n",
    "                district = jsonFile[\"properties\"][\"District\"]\n",
    "                if (district.split(\" \")[1] != \"At-Large\"):\n",
    "                    district = district[0:len(district)-2]\n",
    "                    jsonFile[\"properties\"][\"District\"] = district\n",
    "                print(district)\n",
    "                congressionalList.append(jsonFile)"
   ]
  },
  {
   "cell_type": "code",
   "execution_count": null,
   "metadata": {},
   "outputs": [],
   "source": [
    "jsonDict = {\"type\": \"FeatureCollection\", \"features\": congressionalList}\n",
    "with open('geocounties.json', 'w') as outfile:  \n",
    "    json.dump(jsonDict, outfile)"
   ]
  },
  {
   "cell_type": "code",
   "execution_count": 3,
   "metadata": {},
   "outputs": [],
   "source": [
    "cookData = pd.read_csv('cookPVI.csv')\n",
    "for i in range(len(cookData)):\n",
    "    pvi = cookData.iloc[i][\"PVI\"]\n",
    "    if (pvi[0:2] == \"D+\"):\n",
    "       value = int(pvi.split(\"+\")[1])     \n",
    "       cookData.at[i, \"PVI\"] = value\n",
    "    elif (pvi == \"EVEN\"):\n",
    "       cookData.at[i, \"PVI\"] = 0\n",
    "    else:\n",
    "        value = -1 * int(pvi.split(\"+\")[1])\n",
    "        cookData.at[i, \"PVI\"] = value"
   ]
  },
  {
   "cell_type": "code",
   "execution_count": 8,
   "metadata": {
    "collapsed": true
   },
   "outputs": [],
   "source": [
    "for i in range(len(cookData)):\n",
    "    district = cookData.iloc[i][\"District\"]\n",
    "    stateArr = district.split(\" \")\n",
    "    if (stateArr[1] == \"AL\"):\n",
    "        stateArr[1] = \"At-Large\"\n",
    "    cookData.at[i, \"District\"] = \" \".join(stateArr)"
   ]
  },
  {
   "cell_type": "code",
   "execution_count": 9,
   "metadata": {
    "scrolled": true
   },
   "outputs": [
    {
     "name": "stdout",
     "output_type": "stream",
     "text": [
      "             District  PVI\n",
      "0           Alabama 1  -15\n",
      "1           Alabama 2  -16\n",
      "2           Alabama 3  -16\n",
      "3           Alabama 4  -30\n",
      "4           Alabama 5  -18\n",
      "5           Alabama 6  -26\n",
      "6           Alabama 7   20\n",
      "7     Alaska At-Large   -9\n",
      "8           Arizona 1   -2\n",
      "9           Arizona 2   -1\n",
      "10          Arizona 3   13\n",
      "11          Arizona 4  -21\n",
      "12          Arizona 5  -15\n",
      "13          Arizona 6   -9\n",
      "14          Arizona 7   23\n",
      "15          Arizona 8  -13\n",
      "16          Arizona 9    4\n",
      "17         Arkansas 1  -17\n",
      "18         Arkansas 2   -7\n",
      "19         Arkansas 3  -19\n",
      "20         Arkansas 4  -17\n",
      "21       California 1  -11\n",
      "22       California 2   22\n",
      "23       California 3    5\n",
      "24       California 4  -10\n",
      "25       California 5   21\n",
      "26       California 6   21\n",
      "27       California 7    3\n",
      "28       California 8   -9\n",
      "29       California 9    8\n",
      "..                ...  ...\n",
      "405        Virginia 4   10\n",
      "406        Virginia 5   -6\n",
      "407        Virginia 6  -13\n",
      "408        Virginia 7   -6\n",
      "409        Virginia 8   21\n",
      "410        Virginia 9  -19\n",
      "411       Virginia 10    1\n",
      "412       Virginia 11   15\n",
      "413      Washington 1    6\n",
      "414      Washington 2   10\n",
      "415      Washington 3   -4\n",
      "416      Washington 4  -13\n",
      "417      Washington 5   -8\n",
      "418      Washington 6    6\n",
      "419      Washington 7   33\n",
      "420      Washington 8    0\n",
      "421      Washington 9   21\n",
      "422     Washington 10    5\n",
      "423   West Virginia 1  -19\n",
      "424   West Virginia 2  -17\n",
      "425   West Virginia 3  -23\n",
      "426       Wisconsin 1   -5\n",
      "427       Wisconsin 2   18\n",
      "428       Wisconsin 3    0\n",
      "429       Wisconsin 4   25\n",
      "430       Wisconsin 5  -13\n",
      "431       Wisconsin 6   -8\n",
      "432       Wisconsin 7   -8\n",
      "433       Wisconsin 8   -7\n",
      "434  Wyoming At-Large  -25\n",
      "\n",
      "[435 rows x 2 columns]\n"
     ]
    }
   ],
   "source": [
    "print(cookData)"
   ]
  },
  {
   "cell_type": "code",
   "execution_count": 7,
   "metadata": {},
   "outputs": [
    {
     "data": {
      "text/html": [
       "<div>\n",
       "<style>\n",
       "    .dataframe thead tr:only-child th {\n",
       "        text-align: right;\n",
       "    }\n",
       "\n",
       "    .dataframe thead th {\n",
       "        text-align: left;\n",
       "    }\n",
       "\n",
       "    .dataframe tbody tr th {\n",
       "        vertical-align: top;\n",
       "    }\n",
       "</style>\n",
       "<table border=\"1\" class=\"dataframe\">\n",
       "  <thead>\n",
       "    <tr style=\"text-align: right;\">\n",
       "      <th></th>\n",
       "      <th>District</th>\n",
       "    </tr>\n",
       "  </thead>\n",
       "  <tbody>\n",
       "    <tr>\n",
       "      <th>0</th>\n",
       "      <td>Arizona 2</td>\n",
       "    </tr>\n",
       "    <tr>\n",
       "      <th>1</th>\n",
       "      <td>California 39</td>\n",
       "    </tr>\n",
       "    <tr>\n",
       "      <th>2</th>\n",
       "      <td>California 49</td>\n",
       "    </tr>\n",
       "    <tr>\n",
       "      <th>3</th>\n",
       "      <td>Florida 6</td>\n",
       "    </tr>\n",
       "    <tr>\n",
       "      <th>4</th>\n",
       "      <td>Florida 15</td>\n",
       "    </tr>\n",
       "  </tbody>\n",
       "</table>\n",
       "</div>"
      ],
      "text/plain": [
       "        District\n",
       "0      Arizona 2\n",
       "1  California 39\n",
       "2  California 49\n",
       "3      Florida 6\n",
       "4     Florida 15"
      ]
     },
     "execution_count": 7,
     "metadata": {},
     "output_type": "execute_result"
    }
   ],
   "source": [
    "retiringDistricts = pd.read_csv(\"retiring.csv\")\n",
    "retiringDistricts.head()"
   ]
  },
  {
   "cell_type": "code",
   "execution_count": 16,
   "metadata": {},
   "outputs": [],
   "source": [
    "geo = r'geocounties.json'\n",
    "def constructMap(partisan_lean, incumbency_value=3):\n",
    "    disposableCookData = cookData.copy(deep=True)\n",
    "    demCount = 0\n",
    "    for i in range(len(disposableCookData)):\n",
    "        pvi = disposableCookData.iloc[i][\"PVI\"]\n",
    "        pvi = pvi + partisan_lean\n",
    "        \n",
    "        if (disposableCookData.iloc[i][\"District\"] not in retiringDistricts[\"District\"]):\n",
    "            pvi = pvi + incumbency_value\n",
    "            \n",
    "        disposableCookData.at[i, \"PVI\"] = pvi\n",
    "        if (disposableCookData.iloc[i][\"PVI\"] > 0):\n",
    "            demCount += 1\n",
    "            \n",
    "    print(\"Democratic Count: \" + str(demCount))\n",
    "    \n",
    "    foliumMap = folium.Map(location=[48, -102], zoom_start=3) \n",
    "    foliumMap.choropleth(geo_data=geo, data=disposableCookData,\n",
    "             columns=[\"District\",'PVI'],\n",
    "             key_on='feature.properties.District', threshold_scale=[-10, -5, 0, 5, 10],\n",
    "             fill_color='RdBu', fill_opacity=0.7, line_opacity=0.2,\n",
    "             legend_name=\"PVI\")\n",
    "    theMap.save(\"map.html\")\n",
    "    return foliumMap"
   ]
  },
  {
   "cell_type": "code",
   "execution_count": 14,
   "metadata": {
    "scrolled": false
   },
   "outputs": [],
   "source": [
    "#theMap = constructMap(7.5, 3)\n",
    "#theMap.save(\"map.html\")"
   ]
  },
  {
   "cell_type": "code",
   "execution_count": 17,
   "metadata": {
    "scrolled": false
   },
   "outputs": [
    {
     "data": {
      "application/vnd.jupyter.widget-view+json": {
       "model_id": "e3d8ff5de9ce413fbdb548616358394c",
       "version_major": 2,
       "version_minor": 0
      },
      "text/plain": [
       "interactive(children=(IntSlider(value=0, description='partisan_lean', max=20, min=-20), IntSlider(value=3, des…"
      ]
     },
     "metadata": {},
     "output_type": "display_data"
    },
    {
     "data": {
      "text/plain": [
       "<function __main__.constructMap>"
      ]
     },
     "execution_count": 17,
     "metadata": {},
     "output_type": "execute_result"
    }
   ],
   "source": [
    "slider = widgets.IntSlider(value=0, min=-20, max=20, step=1)\n",
    "incumbencySlider = widgets.IntSlider(value=0, min=-10, max=10, step=1)\n",
    "interact(constructMap, partisan_lean=slider)"
   ]
  },
  {
   "cell_type": "code",
   "execution_count": null,
   "metadata": {
    "collapsed": true
   },
   "outputs": [],
   "source": []
  }
 ],
 "metadata": {
  "kernelspec": {
   "display_name": "Python 3",
   "language": "python",
   "name": "python3"
  },
  "language_info": {
   "codemirror_mode": {
    "name": "ipython",
    "version": 3
   },
   "file_extension": ".py",
   "mimetype": "text/x-python",
   "name": "python",
   "nbconvert_exporter": "python",
   "pygments_lexer": "ipython3",
   "version": "3.6.5"
  }
 },
 "nbformat": 4,
 "nbformat_minor": 2
}
